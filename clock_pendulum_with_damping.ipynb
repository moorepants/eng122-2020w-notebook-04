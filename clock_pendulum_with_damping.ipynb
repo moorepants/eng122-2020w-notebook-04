{
 "cells": [
  {
   "cell_type": "markdown",
   "metadata": {},
   "source": [
    "# Clock Pendulum with Air Drag Damping\n",
    "\n",
    "This notebook introduces the third fundamental characteristic of vibration: energy dissipation through damping. A compound pendulum system representing a clock pendulum is implemented that allows students to vary the damping parameters and visualize the three regimes of linear damping.\n",
    "\n",
    "After the completion of this assignment students will be able to:\n",
    "\n",
    "- understand the concept of damped natural frequency and its relationship to\n",
    "  mass/inertia, stiffness, and damping\n",
    "- state the three fundamental characteristics that make a system vibrate\n",
    "- compute the free response of a linear system with viscous-damping in all\n",
    "  three damping regimes\n",
    "- identify critically damped, underdamped, and overdamped behavior\n",
    "- determine whether a linear system is over/under/critically damped given its\n",
    "  dynamic properties\n",
    "- understand the difference between underdamping, overdamping, and crticial\n",
    "  damping\n",
    "  \n",
    "## Introduction\n",
    "\n",
    "Many clocks use a pendulum to keep time. Pendulum's have a very constant oscillation period and if designed with quality components take very little energy to run. There is a downside to pendulums though. Any friction in the pendulum's pivot joint or any air drag on the pendulum itself will cause the pendulum to slow stop oscillating and this energy dissaption will affect the period of oscillation. `resonance` includes a simple clock pendulum that represents a clock pendulum that looks like:\n",
    "\n",
    "![](clock-pendulum.png)\n",
    "\n",
    "Import the pendulum as so:"
   ]
  },
  {
   "cell_type": "code",
   "execution_count": null,
   "metadata": {},
   "outputs": [],
   "source": [
    "from resonance.linear_systems import ClockPendulumSystem"
   ]
  },
  {
   "cell_type": "code",
   "execution_count": null,
   "metadata": {},
   "outputs": [],
   "source": [
    "sys = ClockPendulumSystem()"
   ]
  },
  {
   "cell_type": "markdown",
   "metadata": {},
   "source": [
    "Check out its constants. Note that the `viscous_damping` term is $c$ in the above diagram, i.e. the linear velocity multiplicative factor of the torque due to air drag. Drag is assumed to only act on the bob."
   ]
  },
  {
   "cell_type": "code",
   "execution_count": null,
   "metadata": {},
   "outputs": [],
   "source": [
    "sys.constants"
   ]
  },
  {
   "cell_type": "markdown",
   "metadata": {},
   "source": [
    "And the coordinates and speeds:"
   ]
  },
  {
   "cell_type": "code",
   "execution_count": null,
   "metadata": {},
   "outputs": [],
   "source": [
    "sys.coordinates"
   ]
  },
  {
   "cell_type": "code",
   "execution_count": null,
   "metadata": {},
   "outputs": [],
   "source": [
    "sys.speeds"
   ]
  },
  {
   "cell_type": "markdown",
   "metadata": {},
   "source": [
    "The system can be simulated as usual if the coordinates or speeds are set to some initial value."
   ]
  },
  {
   "cell_type": "code",
   "execution_count": null,
   "metadata": {},
   "outputs": [],
   "source": [
    "import numpy as np"
   ]
  },
  {
   "cell_type": "code",
   "execution_count": null,
   "metadata": {},
   "outputs": [],
   "source": [
    "sys.coordinates['angle'] = np.deg2rad(5.0)"
   ]
  },
  {
   "cell_type": "code",
   "execution_count": null,
   "metadata": {},
   "outputs": [],
   "source": [
    "traj = sys.free_response(5.0)"
   ]
  },
  {
   "cell_type": "markdown",
   "metadata": {},
   "source": [
    "And a plot can be shown:"
   ]
  },
  {
   "cell_type": "code",
   "execution_count": null,
   "metadata": {},
   "outputs": [],
   "source": [
    "import matplotlib.pyplot as plt"
   ]
  },
  {
   "cell_type": "code",
   "execution_count": null,
   "metadata": {},
   "outputs": [],
   "source": [
    "%matplotlib widget"
   ]
  },
  {
   "cell_type": "code",
   "execution_count": null,
   "metadata": {},
   "outputs": [],
   "source": [
    "fig, ax = plt.subplots(1, 1)\n",
    "ax.plot(traj.index, traj.angle)\n",
    "ax.set_ylabel('Angle [rad]')\n",
    "ax.set_xlabel('Time [s]');"
   ]
  },
  {
   "cell_type": "markdown",
   "metadata": {},
   "source": [
    "The above simulation shows that we get a sinusoid oscillation with a period of about 1 second, which is good."
   ]
  },
  {
   "cell_type": "markdown",
   "metadata": {
    "solution2": "hidden",
    "solution2_first": true
   },
   "source": [
    "**Exercise**\n",
    "\n",
    "Creative an interactive plot of the angle trajectory with a slider for the `viscous_damping` coefficient. The slider shoudl go from 0.0 to 5.0 with step of 0.1. The code should follow this pattern, as before:\n",
    "\n",
    "```python\n",
    "fig, ax = plt.subplots(1, 1)\n",
    "\n",
    "sim_line = ax.plot(traj.index, traj.angle)[0]\n",
    "ax.set_ylim((-sys.coordinates['angle'], sys.coordinates['angle']))\n",
    "\n",
    "ax.set_ylabel('Angle [rad]')\n",
    "ax.set_xlabel('Time [s]')\n",
    "\n",
    "def plot_trajectory(viscous_damping=0.0):\n",
    "    # fill out this function so that the plot will update with a slider.\n",
    "    # 1) update the system's viscous_damping constant\n",
    "    # 2) simulate the free response with free_response()\n",
    "    # 3) update sim_line's data with set_data(x, y)\n",
    "\n",
    "plot_trajectory()\n",
    "```"
   ]
  },
  {
   "cell_type": "code",
   "execution_count": null,
   "metadata": {
    "jupyter": {
     "source_hidden": true
    },
    "solution2": "hidden"
   },
   "outputs": [],
   "source": [
    "fig, ax = plt.subplots(1, 1)\n",
    "\n",
    "sim_line = ax.plot(traj.index, traj.angle)[0]\n",
    "ax.set_ylim((-sys.coordinates['angle'], sys.coordinates['angle']))\n",
    "\n",
    "ax.set_ylabel('Angle [rad]')\n",
    "ax.set_xlabel('Time [s]')\n",
    "\n",
    "def plot_trajectory(viscous_damping=0.0):\n",
    "    sys.constants['viscous_damping'] = viscous_damping\n",
    "    traj = sys.free_response(5.0)\n",
    "    sim_line.set_data(traj.index, traj.angle)\n",
    "\n",
    "plot_trajectory()"
   ]
  },
  {
   "cell_type": "code",
   "execution_count": null,
   "metadata": {},
   "outputs": [],
   "source": [
    "# write your answer here"
   ]
  },
  {
   "cell_type": "code",
   "execution_count": null,
   "metadata": {},
   "outputs": [],
   "source": [
    "from ipywidgets import interact"
   ]
  },
  {
   "cell_type": "code",
   "execution_count": null,
   "metadata": {},
   "outputs": [],
   "source": [
    "widget = interact(plot_trajectory, viscous_damping=(0.0, 5.0, 0.1));"
   ]
  },
  {
   "cell_type": "markdown",
   "metadata": {},
   "source": [
    "# Visualize the Motion"
   ]
  },
  {
   "cell_type": "code",
   "execution_count": null,
   "metadata": {},
   "outputs": [],
   "source": [
    "sys.constants['viscous_damping'] = 0.2\n",
    "frames_per_second = 30\n",
    "traj = sys.free_response(5.0, sample_rate=frames_per_second)"
   ]
  },
  {
   "cell_type": "code",
   "execution_count": null,
   "metadata": {},
   "outputs": [],
   "source": [
    "ani = sys.animate_configuration(fps=frames_per_second, repeat=False)  # sample time in milliseconds"
   ]
  },
  {
   "cell_type": "markdown",
   "metadata": {},
   "source": [
    "This is another option for animating that gives a set of play buttons and options."
   ]
  },
  {
   "cell_type": "code",
   "execution_count": null,
   "metadata": {},
   "outputs": [],
   "source": [
    "from IPython.display import HTML\n",
    "HTML(ani.to_jshtml(fps=frames_per_second))"
   ]
  },
  {
   "cell_type": "markdown",
   "metadata": {},
   "source": [
    "**Exercise**\n",
    "\n",
    "Try out some of the values for the initial coordinate/speed and viscous damping that had interesting trajectories and see what the animation looks like."
   ]
  },
  {
   "cell_type": "markdown",
   "metadata": {},
   "source": [
    "# Oscillation Period and Viscous Damping\n",
    "\n",
    "You may have noticed that the period seems to change with different viscous damping values. It is worth investigating this more thoroughly."
   ]
  },
  {
   "cell_type": "markdown",
   "metadata": {
    "solution2": "hidden",
    "solution2_first": true
   },
   "source": [
    "**Exercise**\n",
    "\n",
    "Use your function for estimating the period of a trajectory in a loop to collect period estimates for 30 values of viscous damping from 0.0 to 5.0. The code for the loop should be structured like:\n",
    "\n",
    "```python\n",
    "from resonance.functions import estimate_period\n",
    "\n",
    "viscous_damping_vals = np.linspace(0.0, 5.0, num=30)\n",
    "periods = []\n",
    "for c in viscous_damping_vals:\n",
    "    sys.constants['viscous_damping'] = c\n",
    "    # write code here to calculate the period and append to periods\n",
    "```"
   ]
  },
  {
   "cell_type": "code",
   "execution_count": null,
   "metadata": {
    "jupyter": {
     "source_hidden": true
    },
    "solution2": "hidden"
   },
   "outputs": [],
   "source": [
    "from resonance.functions import estimate_period\n",
    "\n",
    "viscous_damping_vals = np.linspace(0.0, 5.0, num=30)\n",
    "periods = []\n",
    "for c in viscous_damping_vals:\n",
    "    sys.constants['viscous_damping'] = c\n",
    "    traj = sys.free_response(5.0)\n",
    "    periods.append(estimate_period(traj.index, traj.angle))"
   ]
  },
  {
   "cell_type": "code",
   "execution_count": null,
   "metadata": {},
   "outputs": [],
   "source": [
    "# write your answer here"
   ]
  },
  {
   "cell_type": "code",
   "execution_count": null,
   "metadata": {
    "solution2": "hidden"
   },
   "outputs": [],
   "source": [
    "fig, ax = plt.subplots(1, 1)\n",
    "ax.set_xlabel('Damping Coefficient [Ns/m]')\n",
    "ax.set_ylabel('Period [s]')\n",
    "ax.set_xlim((0.0, 5.0))\n",
    "ax.plot(viscous_damping_vals, periods, 'o');"
   ]
  },
  {
   "cell_type": "markdown",
   "metadata": {
    "solution2": "hidden",
    "solution2_first": true
   },
   "source": [
    "**Exercise**\n",
    "\n",
    "Have a look at the `periods` list and see if anything is unusual. Use the same loop as above but investigate viscous damping values around the value that causes issues and see if you can determine how high the viscous damping value can be for a valid result. The NumPy function `np.isnan()` can be "
   ]
  },
  {
   "cell_type": "code",
   "execution_count": null,
   "metadata": {},
   "outputs": [],
   "source": [
    "for c, T in zip(viscous_damping_vals, periods):\n",
    "    print('c = {:1.3f}'.format(c), '\\t', 'T = {:1.3f}'.format(T))"
   ]
  },
  {
   "cell_type": "markdown",
   "metadata": {},
   "source": [
    "Reuse both loops from above and calculate `viscous_damping` values around the location at which the period cannot compute, e.g. 1.55 to 1.65. Maybe use 25 linearly spaced values or so. Find a value for $c$ (`viscous_damping`) at which the period cannot be computed."
   ]
  },
  {
   "cell_type": "code",
   "execution_count": null,
   "metadata": {
    "jupyter": {
     "source_hidden": true
    },
    "solution2": "hidden"
   },
   "outputs": [],
   "source": [
    "viscous_damping_vals = np.linspace(1.55, 1.65, num=25)\n",
    "periods = []\n",
    "for c in viscous_damping_vals:\n",
    "    sys.constants['viscous_damping'] = c\n",
    "    traj = sys.free_response(5.0)\n",
    "    periods.append(estimate_period(traj.index, traj.angle))\n",
    "\n",
    "for c, T in zip(viscous_damping_vals, periods):\n",
    "    print('c = {:1.3f}'.format(c), '\\t', 'T = {:1.3f}'.format(T))"
   ]
  },
  {
   "cell_type": "code",
   "execution_count": null,
   "metadata": {},
   "outputs": [],
   "source": [
    "# write your answer here"
   ]
  },
  {
   "cell_type": "markdown",
   "metadata": {},
   "source": [
    "## Connection to the damping ratio\n",
    "\n",
    "We defined the damping ratio as:\n",
    "\n",
    "$$\n",
    "\\zeta = \\frac{b}{b_r} = \\frac{b}{2m\\omega_n}\n",
    "$$"
   ]
  },
  {
   "cell_type": "code",
   "execution_count": null,
   "metadata": {},
   "outputs": [],
   "source": [
    "sys.constants['viscous_damping'] = 0.2"
   ]
  },
  {
   "cell_type": "code",
   "execution_count": null,
   "metadata": {},
   "outputs": [],
   "source": [
    "m, b, k = sys.canonical_coefficients()\n",
    "b"
   ]
  },
  {
   "cell_type": "code",
   "execution_count": null,
   "metadata": {},
   "outputs": [],
   "source": [
    "wn = np.sqrt(k/m)\n",
    "br = 2*m*wn\n",
    "br"
   ]
  },
  {
   "cell_type": "code",
   "execution_count": null,
   "metadata": {},
   "outputs": [],
   "source": [
    "b / (2*m*wn)"
   ]
  },
  {
   "cell_type": "markdown",
   "metadata": {},
   "source": [
    "Make a function we can use to calculate the damping ratio:"
   ]
  },
  {
   "cell_type": "code",
   "execution_count": null,
   "metadata": {},
   "outputs": [],
   "source": [
    "def calc_zeta():\n",
    "    m, b, k = sys.canonical_coefficients()\n",
    "    wn = np.sqrt(k/m)\n",
    "    return b / (2*m*wn)"
   ]
  },
  {
   "cell_type": "markdown",
   "metadata": {},
   "source": [
    "# Underdamped, $\\zeta < 1$\n",
    "\n",
    "When the viscous damping value is relatively low, a very nice decayed oscillation is present. This is called an underdamped oscillation because there is vibration, but it still dissipates."
   ]
  },
  {
   "cell_type": "markdown",
   "metadata": {
    "solution2": "hidden",
    "solution2_first": true
   },
   "source": [
    "**Exercise**\n",
    "\n",
    "Create a single plot that shows the free response at these different viscoud damping values: 0.0, 0.08, 0.2, 1.6. Use an initial angle of 5 degrees and inital angular velocity of 0 deg/s. Include a legend so that it is clear which lines represent which values. Use a loop to reduce the amount of typing needed."
   ]
  },
  {
   "cell_type": "code",
   "execution_count": null,
   "metadata": {
    "jupyter": {
     "source_hidden": true
    },
    "solution2": "hidden"
   },
   "outputs": [],
   "source": [
    "fig, ax = plt.subplots(1, 1)\n",
    "\n",
    "for c in [0.0, 0.08, 0.2, 1.6]:\n",
    "    sys.constants['viscous_damping'] = c\n",
    "    traj = sys.free_response(5.0)\n",
    "    ax.plot(traj.index, traj.angle, label='c = {:0.3f} [Ns/m], $\\zeta$ = {:1.2f}'.format(c, calc_zeta()))\n",
    "    \n",
    "ax.legend();"
   ]
  },
  {
   "cell_type": "code",
   "execution_count": null,
   "metadata": {},
   "outputs": [],
   "source": [
    "# write your answer here"
   ]
  },
  {
   "cell_type": "markdown",
   "metadata": {},
   "source": [
    "# Critically Damped, $\\zeta = 1$\n",
    "\n",
    "Above in the plot you created of the period of oscillation versus the viscous damping value, you should have discovered that when the value is at 1.6780754836568228 (or somewhere close) that there are no longer any oscillations. This boundary between oscillation and not oscillating wrt to the viscous damping value is called \"critically damped\" motion."
   ]
  },
  {
   "cell_type": "markdown",
   "metadata": {
    "solution2": "hidden",
    "solution2_first": true
   },
   "source": [
    "**Exercise**\n",
    "\n",
    "Make a single plot of angle trajectories with the viscous damping value set to 1.67 and an initial angle of 0.1 degrees. Plot three lines with the initial angular velocity as -10 degs, 0 degs, and 10 degrees."
   ]
  },
  {
   "cell_type": "code",
   "execution_count": null,
   "metadata": {
    "jupyter": {
     "source_hidden": true
    },
    "solution2": "hidden"
   },
   "outputs": [],
   "source": [
    "sys.constants['viscous_damping'] = 1.67\n",
    "sys.coordinates['angle'] = np.deg2rad(0.1)\n",
    "\n",
    "fig, ax = plt.subplots(1, 1)\n",
    "\n",
    "for v0 in [-np.deg2rad(10), 0, np.deg2rad(10)]:\n",
    "    sys.speeds['angle_vel'] = v0\n",
    "    traj = sys.free_response(5.0)\n",
    "    ax.plot(traj.index, traj.angle, label='$v_0$ = {:0.3f} [rad/s], $\\zeta$ = {:1.2f}'.format(v0, calc_zeta()))\n",
    "    \n",
    "ax.legend()\n",
    "ax.set_ylabel('Angle [rad]')\n",
    "ax.set_xlabel('Time [s]')"
   ]
  },
  {
   "cell_type": "code",
   "execution_count": null,
   "metadata": {},
   "outputs": [],
   "source": [
    "# write your answer here"
   ]
  },
  {
   "cell_type": "markdown",
   "metadata": {},
   "source": [
    "# Overdamped, $\\zeta > 1$\n",
    "\n",
    "Finally, if the viscous damping value is greater than the critical damping value, the motion is called over damped. There is no oscillation and with very high values of damping the system will rapidly decay."
   ]
  },
  {
   "cell_type": "markdown",
   "metadata": {
    "solution2": "hidden",
    "solution2_first": true
   },
   "source": [
    "**Exercise**\n",
    "\n",
    "Create a single plot with the viscous damping value at 2.0 and these three sets of initial conditions:\n",
    "\n",
    "- $\\theta_0$ = 1 deg, $\\dot{\\theta}_0$ = 0 deg/s\n",
    "- $\\theta_0$ = 0 deg, $\\dot{\\theta}_0$ = 10 deg/s\n",
    "- $\\theta_0$ = -1 deg, $\\dot{\\theta}_0$ = 0 deg/s"
   ]
  },
  {
   "cell_type": "code",
   "execution_count": null,
   "metadata": {
    "jupyter": {
     "source_hidden": true
    },
    "solution2": "hidden"
   },
   "outputs": [],
   "source": [
    "sys.constants['viscous_damping'] = 2.0\n",
    "\n",
    "initial = ((np.deg2rad(1), 0.0),\n",
    "           (0.0, np.deg2rad(10)),\n",
    "           (-np.deg2rad(1), 0.0))\n",
    "\n",
    "fig, ax = plt.subplots(1, 1)\n",
    "ax.set_xlabel('Time [s]')\n",
    "ax.set_ylabel('Angle [deg]')\n",
    "\n",
    "for x0, v0 in initial:\n",
    "    sys.coordinates['angle'] = x0\n",
    "    sys.speeds['angle_vel'] = v0\n",
    "    traj = sys.free_response(5.0)\n",
    "    lab_temp = '$x_0$ = {:0.1f} [deg], $v_0$ = {:0.1f} [deg/s], , $\\zeta$ = {:1.2f}'\n",
    "    ax.plot(traj.index, np.rad2deg(traj.angle),\n",
    "            label=lab_temp.format(np.rad2deg(x0), np.rad2deg(v0), calc_zeta()))\n",
    "    \n",
    "ax.legend();"
   ]
  },
  {
   "cell_type": "code",
   "execution_count": null,
   "metadata": {},
   "outputs": [],
   "source": [
    "# write your answer here"
   ]
  }
 ],
 "metadata": {
  "kernelspec": {
   "display_name": "Python 3",
   "language": "python",
   "name": "python3"
  },
  "language_info": {
   "codemirror_mode": {
    "name": "ipython",
    "version": 3
   },
   "file_extension": ".py",
   "mimetype": "text/x-python",
   "name": "python",
   "nbconvert_exporter": "python",
   "pygments_lexer": "ipython3",
   "version": "3.6.7"
  }
 },
 "nbformat": 4,
 "nbformat_minor": 4
}
